{
 "cells": [
  {
   "cell_type": "markdown",
   "metadata": {},
   "source": [
    "# Initialize data sources"
   ]
  },
  {
   "cell_type": "code",
   "execution_count": null,
   "metadata": {},
   "outputs": [],
   "source": [
    "import pandas as pd\n",
    "import matplotlib.pyplot as plt\n",
    "from IPython.display import display, Markdown, HTML\n",
    "import us\n",
    "\n",
    "# https://healthdata.gov/dataset/covid-19-reported-patient-impact-and-hospital-capacity-state-timeseries\n",
    "hhs_data = pd.read_csv('https://healthdata.gov/sites/default/files/reported_hospital_utilization_timeseries_20201206_2146.csv', parse_dates=['date']).set_index(['state', 'date']).sort_index()\n",
    "\n",
    "can_data = pd.read_csv('https://api.covidactnow.org/v2/states.timeseries.csv?apiKey=dd3c11e7428f4663a734092ee4158862', parse_dates=['date']).set_index(['state', 'date']).sort_index()\n",
    "can_summary = pd.read_csv('https://api.covidactnow.org/v2/states.csv?apiKey=dd3c11e7428f4663a734092ee4158862').set_index(['state']).sort_index()\n",
    "\n",
    "# Default utilization to use (before decomp) if there isn't a location-specific\n",
    "# value in the API.\n",
    "DEFAULT_ICU_UTILIZATION = 0.75\n",
    "\n",
    "DEFAULT_ICU_DECOMP = 0.21\n",
    "\n",
    "NJ_CORRECTION = 0.176 - 0.57 + DEFAULT_ICU_DECOMP\n",
    "# https://trello.com/c/T15w5VLq/418-nj-icu-occupancy-rate-nonsensical\n",
    "# This is temporarily correcting for incorrect typical occupancy rate by\n",
    "# applying the shim in the decom override. It is negative, because we want\n",
    "# to say that the expect ICU occupancy is greater than the reported ICU occupancy\n",
    "# since CCM currently reports typical occupancy at 0.176 when they should be\n",
    "# reporting something closer to the historical 0.57 from the 2018 source data\n",
    "# they draw from.\n",
    "\n",
    "ICU_DECOMP_OVERRIDE = {\n",
    "    \"AL\": 0.15,\n",
    "    \"AZ\": 0.4,\n",
    "    \"DE\": 0.3,\n",
    "    \"DC\": 0.15,\n",
    "    \"GA\": 0.1,\n",
    "    # TODO(https://trello.com/c/1ddB5ntl/): CCM is currently giving us an\n",
    "    # extra-high utilization rate. If that gets fixed we may need to bump this\n",
    "    # back down.\n",
    "    \"MS\": 0.37,\n",
    "    \"NV\": 0.25,\n",
    "    \"RI\": 0,\n",
    "    \"NJ\": NJ_CORRECTION,\n",
    "    \"UT\": 0,  # https://trello.com/c/u8surBE7/533-small-icu-headroom-update-update-utah-decompensation-factor-to-align-with-local-sources\n",
    "}\n",
    "\n",
    "def calc_decomp(state):\n",
    "    if state in ICU_DECOMP_OVERRIDE:\n",
    "        return ICU_DECOMP_OVERRIDE[state]\n",
    "    else:\n",
    "        return DEFAULT_ICU_DECOMP\n",
    "    \n",
    "\n",
    "GREEN='#C4ECAA'\n",
    "YELLOW='#FFFFC0'\n",
    "ORANGE='#F7C000'\n",
    "RED='#FA6261'"
   ]
  },
  {
   "cell_type": "markdown",
   "metadata": {},
   "source": [
    "# Merge / massage data sources into a cleaner data set."
   ]
  },
  {
   "cell_type": "code",
   "execution_count": null,
   "metadata": {},
   "outputs": [],
   "source": [
    "# Merge the timeseries (hhs_data and can_data) first so we get the full set of dates in the index.\n",
    "hhs_can_merged=hhs_data.join(can_data, how='outer', rsuffix='_can')"
   ]
  },
  {
   "cell_type": "code",
   "execution_count": null,
   "metadata": {},
   "outputs": [],
   "source": [
    "# Add CAN summary data.\n",
    "hhs_can_summary_merged=hhs_can_merged.join(can_summary, on='state', rsuffix='_summary')\n",
    "data=hhs_can_summary_merged"
   ]
  },
  {
   "cell_type": "code",
   "execution_count": null,
   "metadata": {},
   "outputs": [],
   "source": [
    "# Add decomp data.\n",
    "hhs_can_summary_merged['can_icu_decomp'] = hhs_can_merged.index.to_series().apply(lambda indexEntry: calc_decomp(indexEntry[0]))"
   ]
  },
  {
   "cell_type": "code",
   "execution_count": null,
   "metadata": {},
   "outputs": [],
   "source": [
    "# Fill in missing timeseries capacity / typical usage rate data using summary data.\n",
    "hhs_can_summary_merged['actuals.icuBeds.capacity'] = data['actuals.icuBeds.capacity'].fillna(data['actuals.icuBeds.capacity_summary'])\n",
    "hhs_can_summary_merged['actuals.icuBeds.typicalUsageRate'] = data['actuals.icuBeds.typicalUsageRate'].fillna(data['actuals.icuBeds.typicalUsageRate_summary']).fillna(DEFAULT_ICU_UTILIZATION)"
   ]
  },
  {
   "cell_type": "code",
   "execution_count": null,
   "metadata": {},
   "outputs": [],
   "source": [
    "data = hhs_can_summary_merged"
   ]
  },
  {
   "cell_type": "markdown",
   "metadata": {},
   "source": [
    "# Helper funcs to get latest values and plot worst states."
   ]
  },
  {
   "cell_type": "code",
   "execution_count": null,
   "metadata": {},
   "outputs": [],
   "source": [
    "def worst_states(column, count=10):\n",
    "    current_data=data.groupby('state').last()\n",
    "    return current_data.nlargest(count, column).index.tolist()\n",
    "\n",
    "def plot_worst_states(column, title, count=10, start_date=None, **plot_args):\n",
    "    worst_states_list = worst_states(column, count)\n",
    "    display('Worst States:', worst_states_list)\n",
    "    worst_states_data = data[data.index.get_level_values('state').isin(worst_states_list)]\n",
    "\n",
    "    d = worst_states_data[column].reset_index('state').pivot(columns='state', values=column)\n",
    "    if start_date != None:\n",
    "        d = d[d.index > pd.to_datetime(start_date)]\n",
    "\n",
    "    d.plot(figsize=(12, 8), linewidth=3, title=title, grid=True, **plot_args)"
   ]
  },
  {
   "cell_type": "markdown",
   "metadata": {},
   "source": [
    "# ICU Headroom via CAN data (should match website)."
   ]
  },
  {
   "cell_type": "code",
   "execution_count": null,
   "metadata": {},
   "outputs": [],
   "source": [
    "# This is a manual recreation of the metric, mostly to prove that I know how it is computed and can muck with it.\n",
    "data['can_icu_noncovid_estimate'] = data['actuals.icuBeds.capacity'] * ((data['actuals.icuBeds.typicalUsageRate']-data['can_icu_decomp']).clip(0))\n",
    "data['can_icu_headroom'] = data['actuals.icuBeds.capacity'] - data['can_icu_noncovid_estimate']\n",
    "data['can_icu_headroom_used'] = data['actuals.icuBeds.currentUsageCovid'] / data['can_icu_headroom']\n",
    "\n",
    "# For states that don't have currentUsageCovid we can't recreate the backend data because \n",
    "# the API seems to be missing the esitmated covid patients. So we just backfill with the raw metric value.\n",
    "# NOTE: We don't do a 7-day rolling average on the website, but it makes the plots saner.\n",
    "data['can_icu_headroom_used'] = (data['can_icu_headroom_used'].fillna(data['metrics.icuHeadroomRatio'])).rolling(7).mean()\n"
   ]
  },
  {
   "cell_type": "code",
   "execution_count": null,
   "metadata": {},
   "outputs": [],
   "source": [
    "plot_worst_states(column='can_icu_headroom_used', \n",
    "                  title='ICU Headroom', ylim=(0, 1.5))"
   ]
  },
  {
   "cell_type": "markdown",
   "metadata": {},
   "source": [
    "# ICU Headroom using HHS data."
   ]
  },
  {
   "cell_type": "code",
   "execution_count": null,
   "metadata": {},
   "outputs": [],
   "source": [
    "# NOTE: This includes suspected. We could use staffed_icu_adult_patients_confirmed_covid instead.\n",
    "covid_icu_patients_column='staffed_icu_adult_patients_confirmed_and_suspected_covid';\n",
    "data['hhs_icu_noncovid'] = data['staffed_adult_icu_bed_occupancy'] - data[covid_icu_patients_column];\n",
    "data['hhs_icu_headroom'] = data['total_staffed_adult_icu_beds'] - data['hhs_icu_noncovid'];\n",
    "data['hhs_icu_headroom_used'] = (data[covid_icu_patients_column] / data['hhs_icu_headroom']).rolling(7).mean()\n",
    "\n",
    "plot_worst_states(column='hhs_icu_headroom_used', title='ICU Headroom', ylim=(0, 1.0))"
   ]
  },
  {
   "cell_type": "markdown",
   "metadata": {},
   "source": [
    "## Arizona data comparison\n",
    "[Arizona dashboard](https://www.azdhs.gov/preparedness/epidemiology-disease-control/infectious-disease-epidemiology/covid-19/dashboards/index.php)\n",
    "says that on 2020-11-29 there were:\n",
    "\n",
    "|Column|Value|\n",
    "|----|---|\n",
    "|non-covid patients|983|\n",
    "|covid patients|579|\n",
    "|total beds|1751|\n",
    "\n",
    "The covid patients are spot on, but AZ reports an additional 261 non-covid patients than HHS, and HHS reports an additional 267 beds."
   ]
  },
  {
   "cell_type": "code",
   "execution_count": null,
   "metadata": {},
   "outputs": [],
   "source": [
    "data.loc[('AZ', '2020-11-29')][['hhs_icu_noncovid', covid_icu_patients_column, 'total_staffed_adult_icu_beds']]"
   ]
  },
  {
   "cell_type": "markdown",
   "metadata": {},
   "source": [
    "# ICU Headroom using CAN data except HHS Beds"
   ]
  },
  {
   "cell_type": "code",
   "execution_count": null,
   "metadata": {},
   "outputs": [],
   "source": [
    "hhs_latest_beds = data.groupby('state').last()['total_staffed_adult_icu_beds']\n",
    "data['hhs_latest_beds'] = hhs_latest_beds.reindex(data.index, level='state')\n",
    "\n",
    "data['can_hhs_icu_noncovid_estimate'] = data['hhs_latest_beds'] * ((data['actuals.icuBeds.typicalUsageRate']-data['can_icu_decomp']).clip(0))\n",
    "data['can_hhs_icu_headroom'] = data['hhs_latest_beds'] - data['can_hhs_icu_noncovid_estimate']\n",
    "data['can_hhs_icu_headroom_used'] = (data['actuals.icuBeds.currentUsageCovid'] / data['can_hhs_icu_headroom']).rolling(7).mean()\n",
    "plot_worst_states(column='can_hhs_icu_headroom_used', title='ICU Headroom', ylim=(0, 1.5))"
   ]
  },
  {
   "cell_type": "markdown",
   "metadata": {},
   "source": [
    "# ICU Headroom using CAN data except HHS Beds and no decomp"
   ]
  },
  {
   "cell_type": "code",
   "execution_count": null,
   "metadata": {},
   "outputs": [],
   "source": [
    "hhs_latest_beds = data.groupby('state').last()['total_staffed_adult_icu_beds']\n",
    "data['hhs_latest_beds'] = hhs_latest_beds.reindex(data.index, level='state')\n",
    "\n",
    "data['can_hhs_icu_noncovid_estimate'] = data['hhs_latest_beds'] * data['actuals.icuBeds.typicalUsageRate']\n",
    "data['can_hhs_icu_headroom'] = data['hhs_latest_beds'] - data['can_hhs_icu_noncovid_estimate']\n",
    "data['can_hhs_icu_headroom_used'] = (data['actuals.icuBeds.currentUsageCovid'] / data['can_hhs_icu_headroom']).rolling(7).mean()\n",
    "plot_worst_states(column='can_hhs_icu_headroom_used', title='ICU Headroom', ylim=(0, 1.5))"
   ]
  },
  {
   "cell_type": "markdown",
   "metadata": {},
   "source": [
    "# HHS ICU Beds Utilization %"
   ]
  },
  {
   "cell_type": "code",
   "execution_count": null,
   "metadata": {},
   "outputs": [],
   "source": [
    "data['adult_icu_bed_utilization_avg'] = data['adult_icu_bed_utilization'].rolling(7).mean()\n",
    "plot_worst_states(column='adult_icu_bed_utilization_avg', title='% ICU Beds Used', ylim=(0, 1))"
   ]
  },
  {
   "cell_type": "markdown",
   "metadata": {},
   "source": [
    "# HHS Inpatient Beds Utilization %"
   ]
  },
  {
   "cell_type": "code",
   "execution_count": null,
   "metadata": {},
   "outputs": [],
   "source": [
    "data['inpatient_beds_utilization_avg'] = data['inpatient_beds_utilization'].rolling(7).mean()\n",
    "plot_worst_states(column='inpatient_beds_utilization_avg', title='% Inpatient Beds Used', ylim=(0, 1.1))"
   ]
  },
  {
   "cell_type": "markdown",
   "metadata": {},
   "source": [
    "# COVID Hospitalizations per 100k (HHS)"
   ]
  },
  {
   "cell_type": "code",
   "execution_count": null,
   "metadata": {},
   "outputs": [],
   "source": [
    "data['inpatient_beds_used_covid_per_100k'] = (data['inpatient_beds_used_covid'] / (data['population'] / 100000)).rolling(7).mean()\n",
    "plot_worst_states(column='inpatient_beds_used_covid_per_100k', title='Hospitalizations per 100k (HHS)')"
   ]
  },
  {
   "cell_type": "markdown",
   "metadata": {},
   "source": [
    "# COVID Hospitalizations per 100k (CAN)"
   ]
  },
  {
   "cell_type": "code",
   "execution_count": null,
   "metadata": {},
   "outputs": [],
   "source": [
    "data['can_inpatient_beds_used_covid_per_100k'] = (data['actuals.hospitalBeds.currentUsageCovid'] / (data['population'] / 100000)).rolling(7).mean()\n",
    "plot_worst_states(column='can_inpatient_beds_used_covid_per_100k', title='Hospitalizations per 100k (CAN)')"
   ]
  },
  {
   "cell_type": "markdown",
   "metadata": {},
   "source": [
    "# Calculate % Critical Staffing shortage (via HHS data)"
   ]
  },
  {
   "cell_type": "code",
   "execution_count": null,
   "metadata": {},
   "outputs": [],
   "source": [
    "# Calculate % of states reporting, and drop states with <50% reporting in the last week.\n",
    "#data['critical_staffing_shortage_report_%'] = 1 - data['critical_staffing_shortage_today_not_reported']/(data['critical_staffing_shortage_today_not_reported']+data['critical_staffing_shortage_today_yes']+data['critical_staffing_shortage_today_no'])\n",
    "#data = data.groupby('state').filter(lambda x: x.tail(7)['critical_staffing_shortage_report_%'].mean() > 0.5)"
   ]
  },
  {
   "cell_type": "code",
   "execution_count": null,
   "metadata": {},
   "outputs": [],
   "source": [
    "# Calculate critical_shortage_%\n",
    "critical_shortage_pct=data['critical_staffing_shortage_today_yes']/(data['critical_staffing_shortage_today_yes']+data['critical_staffing_shortage_today_no'])\n",
    "critical_shortage_pct=critical_shortage_pct.reset_index('state').groupby('state').rolling(7).mean().reset_index().set_index(['state', 'date'])\n",
    "data['critical_staffing_shortage_%'] = critical_shortage_pct"
   ]
  },
  {
   "cell_type": "code",
   "execution_count": null,
   "metadata": {},
   "outputs": [],
   "source": [
    "plot_worst_states(column='critical_staffing_shortage_%', \n",
    "                  title='% of hospitals w/ critical staffing shortage (7-day avg, top 10 states)', \n",
    "                  start_date='2020-07-15')"
   ]
  },
  {
   "cell_type": "markdown",
   "metadata": {},
   "source": [
    "# US ICU Beds, ICU Patients, and Utilization"
   ]
  },
  {
   "cell_type": "code",
   "execution_count": null,
   "metadata": {},
   "outputs": [],
   "source": [
    "usa_data = data.groupby('date').sum()\n",
    "usa_data['icu_beds_and_occupancy_coverage'] = (usa_data['total_staffed_adult_icu_beds_coverage']+usa_data['staffed_adult_icu_bed_occupancy_coverage'])/2\n",
    "usa_data[['total_staffed_adult_icu_beds', 'staffed_adult_icu_bed_occupancy', 'icu_beds_and_occupancy_coverage']].rolling(7).mean().plot(figsize=(12, 8), secondary_y=['icu_beds_and_occupancy_coverage'])"
   ]
  },
  {
   "cell_type": "code",
   "execution_count": null,
   "metadata": {},
   "outputs": [],
   "source": [
    "usa_data['icu_utilization'] = (usa_data['adult_icu_bed_utilization_numerator'] / usa_data['adult_icu_bed_utilization_denominator']).rolling(7).mean();\n",
    "usa_data[['icu_utilization', 'adult_icu_bed_utilization_coverage']].rolling(7).mean().plot(secondary_y=['adult_icu_bed_utilization_coverage'], figsize=(12, 8))"
   ]
  },
  {
   "cell_type": "markdown",
   "metadata": {},
   "source": [
    "# HHS Beds vs CCM Beds"
   ]
  },
  {
   "cell_type": "code",
   "execution_count": null,
   "metadata": {},
   "outputs": [],
   "source": [
    "fig, ax = plt.subplots()\n",
    "state_last_beds = data.groupby('state').last()[['actuals.icuBeds.capacity','total_staffed_adult_icu_beds']]\n",
    "state_last_beds.plot.scatter(x='actuals.icuBeds.capacity', y='total_staffed_adult_icu_beds', ax=ax, figsize=(8, 8))\n",
    "\n",
    "for k, v in state_last_beds.iterrows():\n",
    "    ax.annotate(k, v)\n",
    "\n",
    "ax.axline((0,0), (8000, 8000))\n",
    "ax.text(0, 7500, 'HHS has more beds', fontsize=14, color='red')\n",
    "ax.text(5500, 500, 'CAN has more beds', fontsize=14, color='red')"
   ]
  },
  {
   "cell_type": "markdown",
   "metadata": {},
   "source": [
    "# CAN decomp vs HHS decomp"
   ]
  },
  {
   "cell_type": "code",
   "execution_count": null,
   "metadata": {},
   "outputs": [],
   "source": [
    "data['hhs_icu_decomp']=data['actuals.icuBeds.typicalUsageRate'] - (data['staffed_adult_icu_bed_occupancy'] - data['staffed_icu_adult_patients_confirmed_and_suspected_covid'])/data['total_staffed_adult_icu_beds']\n",
    "\n",
    "fig, ax = plt.subplots()\n",
    "state_last_decomp = data[['can_icu_decomp', 'hhs_icu_decomp']].rolling(7).mean().groupby('state').last()\n",
    "state_last_decomp.plot.scatter(x='can_icu_decomp', y='hhs_icu_decomp', ax=ax, figsize=(8, 8), ylim=(-0.3, 0.5), xlim=(-0.3, 0.5))\n",
    "\n",
    "for k, v in state_last_decomp.iterrows():\n",
    "    ax.annotate(k, v)\n",
    "\n",
    "ax.axline((-0.3,-0.3), (0.5, 0.5))\n",
    "ax.text(-0.25, 0.4, 'CAN decomp is too low', fontsize=14, color='red')\n",
    "ax.text(0.2, -0.2, 'CAN decomp is too high', fontsize=14, color='red')"
   ]
  },
  {
   "cell_type": "markdown",
   "metadata": {},
   "source": [
    "# ICU Beds vs Inpatient Beds Fullness"
   ]
  },
  {
   "cell_type": "code",
   "execution_count": null,
   "metadata": {},
   "outputs": [],
   "source": [
    "fig, ax = plt.subplots()\n",
    "state_utilization = data[['inpatient_beds_utilization','adult_icu_bed_utilization']].rolling(7).mean().groupby('state').last()\n",
    "state_utilization.plot.scatter(x='inpatient_beds_utilization', y='adult_icu_bed_utilization', ax=ax, figsize=(12, 12), xlim=(0.5, 1), ylim=(0.5, 1))\n",
    "\n",
    "for k, v in state_utilization.iterrows():\n",
    "    ax.annotate(k, v)\n",
    "\n",
    "ax.axline((0.5,0.5), (1, 1))\n",
    "ax.text(0.52, 0.98, 'ICU beds are more full', fontsize=14, color='red')\n",
    "ax.text(0.85, 0.52, 'Inpatient beds are more full', fontsize=14, color='red')"
   ]
  },
  {
   "cell_type": "markdown",
   "metadata": {},
   "source": [
    "# Whitehouse Metric"
   ]
  },
  {
   "cell_type": "code",
   "execution_count": null,
   "metadata": {},
   "outputs": [],
   "source": [
    "# TODO: I'm including confirmed _and_ suspected, which seems to be relatively close to the WH reports, though ND is closer without suspected. :-/\n",
    "data['weekly_covid_admissions'] = (data['previous_day_admission_adult_covid_confirmed'] + data['previous_day_admission_adult_covid_suspected']).rolling(7).sum()\n",
    "data['100_beds_7_day_avg'] = data['inpatient_beds'].rolling(7).mean()/100\n",
    "data['wh_metric'] = data['weekly_covid_admissions']/(data['100_beds_7_day_avg'])\n",
    "    "
   ]
  },
  {
   "cell_type": "code",
   "execution_count": null,
   "metadata": {},
   "outputs": [],
   "source": [
    "plot_worst_states('wh_metric', 'COVID admisions per 100 beds')"
   ]
  },
  {
   "cell_type": "markdown",
   "metadata": {},
   "source": [
    "# Metric Chart Helpers"
   ]
  },
  {
   "cell_type": "code",
   "execution_count": null,
   "metadata": {},
   "outputs": [],
   "source": [
    "def wh_metric_chart(state, ax=None):\n",
    "    if not ax:\n",
    "        fig, ax = plt.subplots()\n",
    "    data.loc[state]['wh_metric'].plot(title='Weekly COVID Admissions per 100 beds', ax=ax, lw=2, xlim=('2020-07-15',None))\n",
    "\n",
    "    ax.axhspan(ymin=0, ymax=5, color=GREEN)\n",
    "    ax.axhspan(ymin=5, ymax=10, color=YELLOW)\n",
    "    ax.axhspan(ymin=10, ymax=20, color=ORANGE)\n",
    "    ax.axhspan(ymin=20, ymax=30, color=RED)\n",
    "    return ax\n",
    "\n",
    "wh_metric_chart('NJ')"
   ]
  },
  {
   "cell_type": "code",
   "execution_count": null,
   "metadata": {},
   "outputs": [],
   "source": [
    "def can_icu_headroom_chart(state, ax=None):\n",
    "    if not ax:\n",
    "        fig, ax = plt.subplots()\n",
    "    data.loc[state]['can_icu_headroom_used'].plot(title='CAN ICU Headroom', ax=ax, lw=2, xlim=('2020-07-15', None), ylim=(0, 1))\n",
    "\n",
    "    ax.axhspan(ymin=0, ymax=.5, color=GREEN)\n",
    "    ax.axhspan(ymin=.5, ymax=.6, color=YELLOW)\n",
    "    ax.axhspan(ymin=.6, ymax=.7, color=ORANGE)\n",
    "    ax.axhspan(ymin=.7, ymax=1, color=RED)\n",
    "\n",
    "can_icu_headroom_chart('SD')\n"
   ]
  },
  {
   "cell_type": "code",
   "execution_count": null,
   "metadata": {},
   "outputs": [],
   "source": [
    "def hhs_icu_headroom_chart(state, ax=None):\n",
    "    if not ax:\n",
    "        fig, ax = plt.subplots()\n",
    "    data.loc[state]['hhs_icu_headroom_used'].plot(title='HHS ICU Headroom', ax=ax, lw=2, ylim=(0, 1), xlim=('2020-07-15',None))\n",
    "\n",
    "    ax.axhspan(ymin=0, ymax=.5, color=GREEN)\n",
    "    ax.axhspan(ymin=.5, ymax=.6, color=YELLOW)\n",
    "    ax.axhspan(ymin=.6, ymax=.7, color=ORANGE)\n",
    "    ax.axhspan(ymin=.7, ymax=1, color=RED)\n",
    "\n",
    "hhs_icu_headroom_chart('SD')"
   ]
  },
  {
   "cell_type": "code",
   "execution_count": null,
   "metadata": {},
   "outputs": [],
   "source": [
    "def ces_icu_utilization_chart(state, ax=None):\n",
    "    if not ax:\n",
    "        fig, ax = plt.subplots()\n",
    "    data.loc[state]['adult_icu_bed_utilization'].rolling(7).mean().plot(title='CES ICU Utilization', ax=ax, lw=2, ylim=(0, 1), xlim=('2020-07-15',None))\n",
    "\n",
    "    ax.axhspan(ymin=0, ymax=.7, color=GREEN)\n",
    "    ax.axhspan(ymin=.7, ymax=.8, color=YELLOW)\n",
    "    ax.axhspan(ymin=.8, ymax=.85, color=ORANGE)\n",
    "    ax.axhspan(ymin=.85, ymax=1, color=RED)\n",
    "\n",
    "ces_icu_utilization_chart('OK')"
   ]
  },
  {
   "cell_type": "code",
   "execution_count": null,
   "metadata": {},
   "outputs": [],
   "source": [
    "def ces_bed_utilization_chart(state, ax=None):\n",
    "    if not ax:\n",
    "        fig, ax = plt.subplots()\n",
    "    data.loc[state]['inpatient_beds_utilization'].rolling(7).mean().plot(title='CES Beds Utilization', ax=ax, lw=2, ylim=(0, 1), xlim=('2020-07-15',None))\n",
    "\n",
    "    ax.axhspan(ymin=0, ymax=.7, color=GREEN)\n",
    "    ax.axhspan(ymin=.7, ymax=.8, color=YELLOW)\n",
    "    ax.axhspan(ymin=.8, ymax=.85, color=ORANGE)\n",
    "    ax.axhspan(ymin=.85, ymax=1, color=RED)\n",
    "\n",
    "ces_bed_utilization_chart('ND')"
   ]
  },
  {
   "cell_type": "code",
   "execution_count": null,
   "metadata": {},
   "outputs": [],
   "source": [
    "data['covid_hospitalizations_per_100k'] = data['total_adult_patients_hospitalized_confirmed_and_suspected_covid'].rolling(7).mean() / (data['population']/100000)\n",
    "\n",
    "def covid_hospitalizations_per_100k_chart(state, ax=None):\n",
    "    if not ax:\n",
    "        fig, ax = plt.subplots()\n",
    "    data.loc[state]['covid_hospitalizations_per_100k'].rolling(7).mean().plot(title='COVID Hospitalizations per 100k', ax=ax, lw=2, xlim=('2020-07-15',None))\n",
    "\n",
    "    ax.axhspan(ymin=0, ymax=3, color=GREEN)\n",
    "    ax.axhspan(ymin=3, ymax=10, color=YELLOW)\n",
    "    ax.axhspan(ymin=10, ymax=25, color=ORANGE)\n",
    "    ax.axhspan(ymin=25, ymax=70, color=RED)\n",
    "\n",
    "covid_hospitalizations_per_100k_chart('CA')"
   ]
  },
  {
   "cell_type": "code",
   "execution_count": null,
   "metadata": {},
   "outputs": [],
   "source": [
    "def show_state_charts(state):\n",
    "    display(HTML('<h2>' + us.states.lookup(state).name + '</h2>'))\n",
    "    fig, axes = plt.subplots(nrows=1, ncols=6, figsize=(24,3))\n",
    "    can_icu_headroom_chart(state, axes[0])\n",
    "    hhs_icu_headroom_chart(state, axes[1])\n",
    "    wh_metric_chart(state, axes[2])\n",
    "    covid_hospitalizations_per_100k_chart(state, axes[3])\n",
    "    ces_icu_utilization_chart(state, axes[4])\n",
    "    ces_bed_utilization_chart(state, axes[5])\n",
    "    display(fig)\n",
    "    plt.close()\n",
    "    \n",
    "show_state_charts('ND')"
   ]
  },
  {
   "cell_type": "markdown",
   "metadata": {},
   "source": [
    "# Metric Charts for all States"
   ]
  },
  {
   "cell_type": "code",
   "execution_count": null,
   "metadata": {},
   "outputs": [],
   "source": [
    "for state in data.index.get_level_values('state').unique().tolist():\n",
    "    show_state_charts(state)"
   ]
  },
  {
   "cell_type": "code",
   "execution_count": null,
   "metadata": {},
   "outputs": [],
   "source": []
  }
 ],
 "metadata": {
  "kernelspec": {
   "display_name": "Python 3",
   "language": "python",
   "name": "python3"
  },
  "language_info": {
   "codemirror_mode": {
    "name": "ipython",
    "version": 3
   },
   "file_extension": ".py",
   "mimetype": "text/x-python",
   "name": "python",
   "nbconvert_exporter": "python",
   "pygments_lexer": "ipython3",
   "version": "3.7.7"
  }
 },
 "nbformat": 4,
 "nbformat_minor": 4
}
